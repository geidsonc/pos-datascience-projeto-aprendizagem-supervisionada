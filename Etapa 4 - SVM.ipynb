{
 "cells": [
  {
   "cell_type": "code",
   "execution_count": 7,
   "metadata": {},
   "outputs": [
    {
     "name": "stdout",
     "output_type": "stream",
     "text": [
      "=========Random Search Results==========\n",
      "Best Score: 0.8803365957529938\n",
      "Best Hyperparameters: {'kernel': 'poly', 'gamma': 0.01, 'C': 10}\n"
     ]
    }
   ],
   "source": [
    "import pandas\n",
    "from sklearn.model_selection import train_test_split\n",
    "from sklearn.preprocessing import LabelEncoder\n",
    "from sklearn.svm import SVC\n",
    "from sklearn.model_selection import RandomizedSearchCV\n",
    "from sklearn.model_selection import RepeatedStratifiedKFold\n",
    "from sklearn.preprocessing import StandardScaler\n",
    "\n",
    "dataset = pandas.read_csv(\"bank-full.csv\", sep=';')\n",
    "\n",
    "le = LabelEncoder()\n",
    "for column_name in dataset.columns:\n",
    "    if dataset[column_name].dtype == object:\n",
    "        dataset[column_name] = le.fit_transform(dataset[column_name])\n",
    "    else:\n",
    "        pass\n",
    "    \n",
    "x = dataset.values[:, 0:16] \n",
    "y = dataset.values[:,16]\n",
    "\n",
    "x_train, x_test, y_train, y_test = train_test_split(x, y, test_size = 0.90, random_state = 1)\n",
    "\n",
    "sc = StandardScaler()\n",
    "sc.fit(x_train)\n",
    "x_train_std = sc.transform(x_train)\n",
    "x_test_std = sc.transform(x_test)\n",
    "# x_valid_std = sc.transform(x_valid)\n",
    "\n",
    "# ajustando busca dos melhores hiperparâmetros \n",
    "space = dict()\n",
    "space['kernel'] = ['linear', 'rbf', 'poly', 'sigmoid']\n",
    "space['C'] = [0.01, 1, 10]\n",
    "space['gamma'] = [0.001, 0.01, 0.1, 1]\n",
    "\n",
    "# criando o modelo\n",
    "model = SVC()\n",
    "cv = RepeatedStratifiedKFold(n_splits=10, n_repeats=3, random_state=1)\n",
    "search = RandomizedSearchCV(model, space, n_iter=10, scoring='accuracy', n_jobs=-1, cv=cv, random_state=1)\n",
    "\n",
    "# resultado\n",
    "result = search.fit(x_train_std, y_train)\n",
    "print('=========Random Search Results==========')\n",
    "print('Best Score: %s' % result.best_score_)\n",
    "print('Best Hyperparameters: %s' % result.best_params_)\n",
    "\n"
   ]
  },
  {
   "cell_type": "code",
   "execution_count": null,
   "metadata": {},
   "outputs": [],
   "source": []
  }
 ],
 "metadata": {
  "kernelspec": {
   "display_name": "Python 3",
   "language": "python",
   "name": "python3"
  },
  "language_info": {
   "codemirror_mode": {
    "name": "ipython",
    "version": 3
   },
   "file_extension": ".py",
   "mimetype": "text/x-python",
   "name": "python",
   "nbconvert_exporter": "python",
   "pygments_lexer": "ipython3",
   "version": "3.8.5"
  }
 },
 "nbformat": 4,
 "nbformat_minor": 4
}
