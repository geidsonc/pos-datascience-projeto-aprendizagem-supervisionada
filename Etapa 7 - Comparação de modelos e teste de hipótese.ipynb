{
 "cells": [
  {
   "cell_type": "markdown",
   "metadata": {},
   "source": [
    "### Importação das bibliotecas"
   ]
  },
  {
   "cell_type": "code",
   "execution_count": 34,
   "metadata": {},
   "outputs": [],
   "source": [
    "import pandas\n",
    "from sklearn import model_selection\n",
    "from scipy import stats\n",
    "from sklearn.preprocessing import LabelEncoder\n",
    "from sklearn.svm import SVC\n",
    "from sklearn.tree import DecisionTreeClassifier\n",
    "from sklearn.ensemble import RandomForestClassifier\n",
    "from sklearn.neighbors import KNeighborsClassifier\n",
    "from sklearn.model_selection import RandomizedSearchCV\n",
    "from sklearn.model_selection import RepeatedStratifiedKFold\n",
    "from sklearn.preprocessing import StandardScaler\n",
    "from sklearn.ensemble import StackingClassifier\n",
    "from sklearn.linear_model import LogisticRegression\n",
    "from sklearn.naive_bayes import GaussianNB\n",
    "\n",
    "from sklearn.metrics import classification_report\n",
    "from sklearn.metrics import confusion_matrix\n",
    "import matplotlib.pyplot as plt\n",
    "\n",
    "from warnings import filterwarnings\n",
    "filterwarnings('ignore')\n",
    "\n"
   ]
  },
  {
   "cell_type": "markdown",
   "metadata": {},
   "source": [
    "### Importação do conjunto de dados\n",
    "\n",
    "- Converte atributos usando o LabelEncoder\n",
    "- Separa o x e y, onde y é a coluna que possui os labels.\n",
    "- Divide o conjunto com 10% para treino\n",
    "- Prepara os dados escalando valores para serem utilizados exclusivamente no modelo SVM."
   ]
  },
  {
   "cell_type": "code",
   "execution_count": 25,
   "metadata": {},
   "outputs": [],
   "source": [
    "#Importação do dataset, preparação dos dados e separação do conjunto de treino\n",
    "\n",
    "dataset = pandas.read_csv(\"bank-full.csv\", sep=';')\n",
    "le = LabelEncoder()\n",
    "for column_name in dataset.columns:\n",
    "    if dataset[column_name].dtype == object:\n",
    "        dataset[column_name] = le.fit_transform(dataset[column_name])\n",
    "    else:\n",
    "        pass\n",
    " \n",
    "x = dataset.values[:, 0:16] \n",
    "y = dataset.values[:,16]\n",
    "\n",
    "# separando em 10% treino\n",
    "x_train, x_test, y_train, y_test = model_selection.train_test_split(x, y, test_size = 0.90, random_state = 1)\n",
    "\n",
    "#Scaler para o modelo SVC\n",
    "sc = StandardScaler()\n",
    "sc.fit(x_train)\n",
    "x_train_std = sc.transform(x_train)\n",
    "x_test_std = sc.transform(x_test)\n",
    "\n",
    "cv = model_selection.StratifiedKFold(n_splits=10, random_state=1)"
   ]
  },
  {
   "cell_type": "markdown",
   "metadata": {},
   "source": [
    "### Modelos com as melhores configurações de parâmetros\n",
    "\n",
    "- Para cada modelo, é passado os melhores parametros encontrados nas etapas anteriores\n",
    "- Cria uma lista com todos os modelos."
   ]
  },
  {
   "cell_type": "code",
   "execution_count": 26,
   "metadata": {},
   "outputs": [],
   "source": [
    "#8. Definicao dos modelos de classificacao com as melhores configuracoes\n",
    "# criacao dos modelos com os melhores parametros\n",
    "dtc = DecisionTreeClassifier(min_samples_split=3, min_samples_leaf=2, max_depth=7, criterion='entropy')\n",
    "knn = KNeighborsClassifier(weights='uniform', p=2, n_neighbors=9, metric='manhattan')\n",
    "rfc = RandomForestClassifier(n_estimators=1600, min_samples_split=10, max_features='sqrt', max_depth=70, bootstrap=False, random_state=1)\n",
    "svc = SVC(kernel='poly', gamma=0.01, C=10)\n",
    "\n",
    "funcoes_pilha = [('lr', LogisticRegression()), ('knn', KNeighborsClassifier()), ('cart', DecisionTreeClassifier()), ('svm', SVC()), ('bayes', GaussianNB())]\n",
    "stc = StackingClassifier(stack_method= 'predict', estimators=funcoes_pilha, final_estimator=LogisticRegression(), cv=5)\n",
    "\n",
    "#adiciona os modelos em uma lista\n",
    "models = []\n",
    "models.append(('Arvore', dtc))\n",
    "models.append(('SVM', svc))\n",
    "models.append(('KNN', knn))\n",
    "models.append(('Random Forest', rfc))\n",
    "models.append(('Stack Pilha', stc))\n",
    "\n",
    "results = []\n",
    "names = []\n",
    "scoring = 'accuracy'\n"
   ]
  },
  {
   "cell_type": "markdown",
   "metadata": {},
   "source": [
    "### Execução do modelo experimental e teste de hipótese\n",
    "\n",
    "- Para cada modelo, é realizada uma validação cruzada.\n",
    "- O score de cada modelo é armazendo em results.\n",
    "\n",
    "#### Hipótese\n",
    "- H0: Os modelos possuem distribuições iguais.\n",
    "- H1: Os modelos possuem distribuições diferentes.\n",
    "    \n",
    "Ao final é exibido a comparação entre alguns modelos"
   ]
  },
  {
   "cell_type": "code",
   "execution_count": 27,
   "metadata": {},
   "outputs": [
    {
     "name": "stdout",
     "output_type": "stream",
     "text": [
      "\n",
      "Desempenhos medios dos modelos:\n",
      "Arvore: 0.889184 (0.007098)\n",
      "SVM: 0.880779 (0.002854)\n",
      "KNN: 0.877684 (0.006224)\n",
      "Random Forest: 0.903343 (0.010860)\n",
      "Stack Pilha: 0.885201 (0.009158)\n",
      "\n",
      "Different distributions (reject H0)\n",
      "\n",
      "Comparison stats 27.450407916968334\n",
      "Comparacao Random Forest | Arvore -> KruskalResult(statistic=7.245007564296528, pvalue=0.007109841490752865)\n",
      "Comparacao Random Forest | SVM -> KruskalResult(statistic=14.328808446455497, pvalue=0.00015349779170582787)\n",
      "Comparacao Random Forest | KNN -> KruskalResult(statistic=13.740662650602408, pvalue=0.0002098614483023187)\n",
      "Comparacao Random Forest | Stack -> KruskalResult(statistic=9.923502653525391, pvalue=0.0016318154510088514)\n",
      "Comparacao Arvore | SVM -> KruskalResult(statistic=6.0814393939393865, pvalue=0.01366094180273083)\n",
      "Comparacao Arvore | KNN -> KruskalResult(statistic=7.456169568508702, pvalue=0.0063219388869915055)\n",
      "Comparacao Arvore | Stack -> KruskalResult(statistic=2.089565879664887, pvalue=0.14830820876626064)\n"
     ]
    }
   ],
   "source": [
    "#10 Execucao do modelo experimental\n",
    "#avaliacao de cada modelo nas amotragens estratificas\n",
    "print('\\nDesempenhos medios dos modelos:')\n",
    "for name, model in models:\n",
    "    #Se o modelo for SVM usa o train scaler.\n",
    "    if name == 'SVM':\n",
    "        cv_results = model_selection.cross_val_score(model, x_train_std, y_train, cv=cv, scoring=scoring, error_score='raise')\n",
    "    else:\n",
    "        cv_results = model_selection.cross_val_score(model, x_train, y_train, cv=cv, scoring=scoring, error_score='raise')\n",
    "\n",
    "    results.append(cv_results)\n",
    "    names.append(name)\n",
    "    msg = \"%s: %f (%f)\" % (name, cv_results.mean(), cv_results.std())\n",
    "    print(msg)\n",
    "\n",
    "#11 Comparacao de modelos\n",
    "# Teste de hipotese analisando o p-value\n",
    "stat, p = stats.kruskal(results[0],results[1],results[2],results[3],results[4])\n",
    "alpha = 0.05\n",
    "if p > alpha:\n",
    "\tprint('\\nSame distributions (fail to reject H0)')\n",
    "else:\n",
    "\tprint('\\nDifferent distributions (reject H0)')\n",
    "print('\\nComparison stats', stat)\n",
    "\n",
    "print('Comparacao Random Forest | Arvore ->', stats.kruskal(results[3],results[0]))\n",
    "print('Comparacao Random Forest | SVM ->', stats.kruskal(results[3],results[1]))\n",
    "print('Comparacao Random Forest | KNN ->',stats.kruskal(results[3],results[2]))\n",
    "print('Comparacao Random Forest | Stack ->',stats.kruskal(results[3],results[4]))\n",
    "print('Comparacao Arvore | SVM ->',stats.kruskal(results[0],results[1]))\n",
    "print('Comparacao Arvore | KNN ->',stats.kruskal(results[0],results[2]))\n",
    "print('Comparacao Arvore | Stack ->',stats.kruskal(results[0],results[4]))\t"
   ]
  },
  {
   "cell_type": "code",
   "execution_count": 28,
   "metadata": {},
   "outputs": [
    {
     "data": {
      "text/plain": [
       "StackingClassifier(cv=5,\n",
       "                   estimators=[('lr', LogisticRegression()),\n",
       "                               ('knn', KNeighborsClassifier()),\n",
       "                               ('cart', DecisionTreeClassifier()),\n",
       "                               ('svm', SVC()), ('bayes', GaussianNB())],\n",
       "                   final_estimator=LogisticRegression(),\n",
       "                   stack_method='predict')"
      ]
     },
     "execution_count": 28,
     "metadata": {},
     "output_type": "execute_result"
    }
   ],
   "source": [
    "#treinamento dos modelos no conjunto de treino completo (sem divisao de validacao)\n",
    "dtc.fit(x_train, y_train)\n",
    "svc.fit(x_train_std, y_train)\n",
    "knn.fit(x_train, y_train)\n",
    "rfc.fit(x_train, y_train)\n",
    "stc.fit(x_train, y_train)"
   ]
  },
  {
   "cell_type": "markdown",
   "metadata": {},
   "source": [
    "### Realiza a predição para cada modelo\n",
    "\n",
    "Utiliza o conjunto de test"
   ]
  },
  {
   "cell_type": "code",
   "execution_count": 29,
   "metadata": {},
   "outputs": [],
   "source": [
    "#predicao de cada modelo para a base de teste\n",
    "Y_test_prediction_dtc = dtc.predict(x_test)\n",
    "Y_test_prediction_svc = svc.predict(x_test)\n",
    "Y_test_prediction_knn = knn.predict(x_test)\n",
    "Y_test_prediction_rfc = rfc.predict(x_test)\n",
    "Y_test_prediction_stc = stc.predict(x_test)"
   ]
  },
  {
   "cell_type": "markdown",
   "metadata": {},
   "source": [
    "### Apresentação de resultados (acurácia, matriz de confusão, plot)\n",
    "\n",
    "- Acurácia para Treinamento e Teste\n",
    "- Relatório de classificação (precissão, recall, f1-score, support) para cada classe [0,1]\n",
    "- Matriz de confusão.\n",
    "\n",
    "Alguns modelos são muito bons em acertar a classe 0."
   ]
  },
  {
   "cell_type": "code",
   "execution_count": 35,
   "metadata": {},
   "outputs": [
    {
     "name": "stdout",
     "output_type": "stream",
     "text": [
      "\n",
      "Acuracia Arvore: Treinamento 0.9194868391948684  Teste 0.890046694519538\n",
      "Clasification report:               precision    recall  f1-score   support\n",
      "\n",
      "           0       0.92      0.96      0.94     35945\n",
      "           1       0.54      0.35      0.43      4745\n",
      "\n",
      "    accuracy                           0.89     40690\n",
      "   macro avg       0.73      0.66      0.68     40690\n",
      "weighted avg       0.87      0.89      0.88     40690\n",
      "\n",
      "Confussion matrix:\n",
      " [[34559  1386]\n",
      " [ 3088  1657]]\n",
      "\n",
      "Acuracia SVM: Treinamento 0.8840964388409643  Teste 0.3575817154091914\n",
      "Clasification report:               precision    recall  f1-score   support\n",
      "\n",
      "           0       0.91      0.30      0.45     35945\n",
      "           1       0.13      0.78      0.22      4745\n",
      "\n",
      "    accuracy                           0.36     40690\n",
      "   macro avg       0.52      0.54      0.34     40690\n",
      "weighted avg       0.82      0.36      0.43     40690\n",
      "\n",
      "Confussion matrix:\n",
      " [[10826 25119]\n",
      " [ 1021  3724]]\n",
      "\n",
      "Acuracia KNN: Treinamento 0.8958195089581951  Teste 0.884222167608749\n",
      "Clasification report:               precision    recall  f1-score   support\n",
      "\n",
      "           0       0.90      0.98      0.94     35945\n",
      "           1       0.51      0.17      0.26      4745\n",
      "\n",
      "    accuracy                           0.88     40690\n",
      "   macro avg       0.71      0.57      0.60     40690\n",
      "weighted avg       0.85      0.88      0.86     40690\n",
      "\n",
      "Confussion matrix:\n",
      " [[35168   777]\n",
      " [ 3934   811]]\n",
      "\n",
      "Acuracia Comite Random Forest: Treinamento 0.9929219199292192  Teste 0.9023347259768985\n",
      "Clasification report:               precision    recall  f1-score   support\n",
      "\n",
      "           0       0.92      0.97      0.95     35945\n",
      "           1       0.63      0.39      0.48      4745\n",
      "\n",
      "    accuracy                           0.90     40690\n",
      "   macro avg       0.78      0.68      0.72     40690\n",
      "weighted avg       0.89      0.90      0.89     40690\n",
      "\n",
      "Confussion matrix:\n",
      " [[34848  1097]\n",
      " [ 2877  1868]]\n",
      "\n",
      "Acuracia Comite Stack: Treinamento 0.9312099093120991  Teste 0.8881297616121897\n",
      "Clasification report:               precision    recall  f1-score   support\n",
      "\n",
      "           0       0.91      0.97      0.94     35945\n",
      "           1       0.55      0.24      0.33      4745\n",
      "\n",
      "    accuracy                           0.89     40690\n",
      "   macro avg       0.73      0.61      0.64     40690\n",
      "weighted avg       0.86      0.89      0.87     40690\n",
      "\n",
      "Confussion matrix:\n",
      " [[35011   934]\n",
      " [ 3618  1127]]\n"
     ]
    },
    {
     "data": {
      "image/png": "[encoded data removed]",
      "text/plain": [
       "<Figure size 432x288 with 1 Axes>"
      ]
     },
     "metadata": {
      "needs_background": "light"
     },
     "output_type": "display_data"
    }
   ],
   "source": [
    "#12 Apresentacao de resultados\n",
    "print(\"\\nAcuracia Arvore: Treinamento\",  dtc.score(x_train, y_train),\" Teste\" ,dtc.score(x_test, y_test))\n",
    "print(\"Clasification report:\", classification_report(y_test, Y_test_prediction_dtc))\n",
    "print(\"Confussion matrix:\\n\", confusion_matrix(y_test, Y_test_prediction_dtc))\n",
    "\n",
    "print(\"\\nAcuracia SVM: Treinamento\",  svc.score(x_train_std, y_train),\" Teste\" ,svc.score(x_test, y_test))\n",
    "print(\"Clasification report:\", classification_report(y_test, Y_test_prediction_svc))\n",
    "print(\"Confussion matrix:\\n\", confusion_matrix(y_test, Y_test_prediction_svc))\n",
    "\n",
    "print(\"\\nAcuracia KNN: Treinamento\",  knn.score(x_train, y_train),\" Teste\" ,knn.score(x_test, y_test))\n",
    "print(\"Clasification report:\", classification_report(y_test, Y_test_prediction_knn))\n",
    "print(\"Confussion matrix:\\n\", confusion_matrix(y_test, Y_test_prediction_knn))\n",
    "\n",
    "print(\"\\nAcuracia Comite Random Forest: Treinamento\",  rfc.score(x_train, y_train),\" Teste\" ,rfc.score(x_test, y_test))\n",
    "print(\"Clasification report:\", classification_report(y_test, Y_test_prediction_rfc))\n",
    "print(\"Confussion matrix:\\n\", confusion_matrix(y_test, Y_test_prediction_rfc))\n",
    "\n",
    "print(\"\\nAcuracia Comite Stack: Treinamento\",  stc.score(x_train, y_train),\" Teste\" ,stc.score(x_test, y_test))\n",
    "print(\"Clasification report:\", classification_report(y_test, Y_test_prediction_stc))\n",
    "print(\"Confussion matrix:\\n\", confusion_matrix(y_test, Y_test_prediction_stc))\n",
    "      \n",
    "      \n",
    "fig = plt.figure()\n",
    "fig.suptitle('Algorithm Comparison')\n",
    "ax = fig.add_subplot(111)\n",
    "plt.boxplot(results)\n",
    "ax.set_xticklabels(names)\n",
    "plt.show()\t"
   ]
  },
  {
   "cell_type": "code",
   "execution_count": null,
   "metadata": {},
   "outputs": [],
   "source": []
  }
 ],
 "metadata": {
  "kernelspec": {
   "display_name": "Python 3",
   "language": "python",
   "name": "python3"
  },
  "language_info": {
   "codemirror_mode": {
    "name": "ipython",
    "version": 3
   },
   "file_extension": ".py",
   "mimetype": "text/x-python",
   "name": "python",
   "nbconvert_exporter": "python",
   "pygments_lexer": "ipython3",
   "version": "3.8.5"
  }
 },
 "nbformat": 4,
 "nbformat_minor": 4
}
